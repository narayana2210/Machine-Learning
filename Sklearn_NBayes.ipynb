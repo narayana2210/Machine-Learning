{
 "cells": [
  {
   "cell_type": "code",
   "execution_count": 1,
   "metadata": {},
   "outputs": [
    {
     "name": "stdout",
     "output_type": "stream",
     "text": [
      "[3]\n"
     ]
    }
   ],
   "source": [
    "import numpy as np\n",
    "rng = np.random.RandomState(1)\n",
    "X = rng.randint(5, size=(6, 10))\n",
    "Y = np.array([1, 2, 3, 4, 4, 5])\n",
    "from sklearn.naive_bayes import BernoulliNB\n",
    "clf = BernoulliNB()\n",
    "clf.fit(X, Y)\n",
    "BernoulliNB()\n",
    "print(clf.predict(X[2:3]))"
   ]
  },
  {
   "cell_type": "code",
   "execution_count": 19,
   "metadata": {
    "scrolled": true
   },
   "outputs": [
    {
     "name": "stdout",
     "output_type": "stream",
     "text": [
      "[[3 4 0 1 3 0 0 1 4 4]\n",
      " [1 2 4 2 4 3 4 2 4 2]\n",
      " [4 1 1 0 1 1 1 1 0 4]\n",
      " [1 0 0 3 2 1 0 3 1 1]\n",
      " [3 4 0 1 3 4 2 4 0 3]\n",
      " [1 2 0 4 1 2 2 1 0 1]]\n",
      "****************************************************************************************************\n",
      "[[4 1 1 0 1 1 1 1 0 4]]\n"
     ]
    }
   ],
   "source": [
    "print(X)\n",
    "print(\"*\"*100)\n",
    "print(X[2:3])"
   ]
  },
  {
   "cell_type": "code",
   "execution_count": 7,
   "metadata": {},
   "outputs": [
    {
     "name": "stdout",
     "output_type": "stream",
     "text": [
      "[[3 4 0 1 3 0 0 1 4 4]\n",
      " [1 2 4 2 4 3 4 2 4 2]\n",
      " [4 1 1 0 1 1 1 1 0 4]\n",
      " [1 0 0 3 2 1 0 3 1 1]\n",
      " [3 4 0 1 3 4 2 4 0 3]\n",
      " [1 2 0 4 1 2 2 1 0 1]]\n",
      "****************************************************************************************************\n",
      "[[4 1 1 0 1 1 1 1 0 4]]\n",
      "[[0 1]\n",
      " [4 2]\n",
      " [1 0]\n",
      " [0 3]\n",
      " [0 1]\n",
      " [0 4]]\n"
     ]
    }
   ],
   "source": [
    "import numpy as np\n",
    "rng = np.random.RandomState(1)\n",
    "X = rng.randint(5, size=(6, 10))\n",
    "print(X)\n",
    "print(\"*\"*100)\n",
    "print(X[2:3])\n",
    "print(X[:,2:4])"
   ]
  },
  {
   "cell_type": "code",
   "execution_count": null,
   "metadata": {},
   "outputs": [],
   "source": []
  }
 ],
 "metadata": {
  "kernelspec": {
   "display_name": "Python 3",
   "language": "python",
   "name": "python3"
  },
  "language_info": {
   "codemirror_mode": {
    "name": "ipython",
    "version": 3
   },
   "file_extension": ".py",
   "mimetype": "text/x-python",
   "name": "python",
   "nbconvert_exporter": "python",
   "pygments_lexer": "ipython3",
   "version": "3.6.8"
  }
 },
 "nbformat": 4,
 "nbformat_minor": 2
}
