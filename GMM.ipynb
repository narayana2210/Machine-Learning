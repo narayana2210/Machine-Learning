{
 "cells": [
  {
   "cell_type": "markdown",
   "metadata": {},
   "source": [
    "# Guassian Mixture Model "
   ]
  },
  {
   "cell_type": "markdown",
   "metadata": {},
   "source": [
    "# no of clusters\n",
    "\n",
    "# Alogorithm\n",
    "\n",
    "1. Initialize the mean \\mu_k, \n",
    "the covariance matrix \\Sigma_k and \n",
    "the mixing coefficients \\pi_k \n",
    "by some random values. (or other values)\n",
    "\n",
    "2. Compute the \\gamma_k values for all k.\n",
    "\n",
    "3. Again Estimate all the parameters \n",
    "using the current \\gamma_k values.\n",
    "\n",
    "4. Compute log-likelihood function.\n",
    "\n",
    "5. Put some convergence criterion\n",
    "\n",
    "6. If the log-likelihood value converges to some value \n",
    "( or if all the parameters converge to some values ) \n",
    "then stop, \n",
    "else return to Step 2."
   ]
  },
  {
   "cell_type": "code",
   "execution_count": 2,
   "metadata": {},
   "outputs": [
    {
     "data": {
      "text/plain": [
       "<matplotlib.collections.PathCollection at 0x22e22e48fd0>"
      ]
     },
     "execution_count": 2,
     "metadata": {},
     "output_type": "execute_result"
    },
    {
     "data": {
      "image/png": "[encoded data removed]",
      "text/plain": [
       "<Figure size 432x288 with 1 Axes>"
      ]
     },
     "metadata": {
      "needs_background": "light"
     },
     "output_type": "display_data"
    }
   ],
   "source": [
    "import numpy as np \n",
    "import pandas as pd \n",
    "import matplotlib.pyplot as plt \n",
    "from pandas import DataFrame \n",
    "from sklearn import datasets \n",
    "from sklearn.mixture import GaussianMixture \n",
    "  \n",
    "# load the iris dataset \n",
    "iris = datasets.load_iris() \n",
    "  \n",
    "# select first two columns  \n",
    "X = iris.data[:, :2] \n",
    "  \n",
    "# turn it into a dataframe \n",
    "d = pd.DataFrame(X) \n",
    "  \n",
    "# plot the data \n",
    "plt.scatter(d[0], d[1]) "
   ]
  },
  {
   "cell_type": "code",
   "execution_count": 4,
   "metadata": {},
   "outputs": [
    {
     "data": {
      "text/plain": [
       "<matplotlib.collections.PathCollection at 0x2001e6b1240>"
      ]
     },
     "execution_count": 4,
     "metadata": {},
     "output_type": "execute_result"
    },
    {
     "data": {
      "image/png": "[encoded data removed]",
      "text/plain": [
       "<Figure size 432x288 with 1 Axes>"
      ]
     },
     "metadata": {
      "needs_background": "light"
     },
     "output_type": "display_data"
    }
   ],
   "source": [
    "gmm = GaussianMixture(n_components = 3) \n",
    "  \n",
    "# Fit the GMM model for the dataset  \n",
    "# which expresses the dataset as a  \n",
    "# mixture of 3 Gaussian Distribution \n",
    "gmm.fit(d) \n",
    "  \n",
    "# Assign a label to each sample \n",
    "labels = gmm.predict(d) \n",
    "d['labels']= labels \n",
    "d0 = d[d['labels']== 0] \n",
    "d1 = d[d['labels']== 1] \n",
    "d2 = d[d['labels']== 2] \n",
    "  \n",
    "# plot three clusters in same plot \n",
    "plt.scatter(d0[0], d0[1], c ='r') \n",
    "plt.scatter(d1[0], d1[1], c ='b') \n",
    "plt.scatter(d2[0], d2[1], c ='g') "
   ]
  },
  {
   "cell_type": "code",
   "execution_count": 3,
   "metadata": {},
   "outputs": [
    {
     "name": "stdout",
     "output_type": "stream",
     "text": [
      "-1.4987505566235169\n",
      "8\n"
     ]
    }
   ],
   "source": [
    "# print the converged log-likelihood value \n",
    "print(gmm.lower_bound_) \n",
    "  \n",
    "# print the number of iterations needed \n",
    "# for the log-likelihood value to converge \n",
    "print(gmm.n_iter_)"
   ]
  },
  {
   "cell_type": "code",
   "execution_count": null,
   "metadata": {},
   "outputs": [],
   "source": []
  }
 ],
 "metadata": {
  "kernelspec": {
   "display_name": "Python 3",
   "language": "python",
   "name": "python3"
  },
  "language_info": {
   "codemirror_mode": {
    "name": "ipython",
    "version": 3
   },
   "file_extension": ".py",
   "mimetype": "text/x-python",
   "name": "python",
   "nbconvert_exporter": "python",
   "pygments_lexer": "ipython3",
   "version": "3.6.8"
  }
 },
 "nbformat": 4,
 "nbformat_minor": 2
}
